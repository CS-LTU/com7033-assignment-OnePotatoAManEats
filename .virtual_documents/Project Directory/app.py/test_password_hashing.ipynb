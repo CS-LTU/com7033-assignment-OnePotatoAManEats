{
 "cells": [
  {
   "metadata": {
    "jupyter": {
     "is_executing": true
    },
    "ExecuteTime": {
     "start_time": "2024-11-28T11:23:19.678182Z"
    }
   },
   "cell_type": "code",
   "source": [
    "import unittest\n",
    "from werkzeug.security import generate_password_hash as werkzeug_generate_password_hash, check_password_hash as werkzeug_check_password_hash\n",
    "import re\n",
    "\n",
    "# Run the Web App Routing notebook\n",
    "%run WebAppRouting.ipynb import app\n",
    "\n",
    "### TESTING PASSWORD FUNCTIONALITY###\n",
    "\n",
    "def generate_password_hash(password, method='pbkdf2:sha256'):\n",
    "        return werkzeug_generate_password_hash(password, method)\n",
    "\n",
    "def check_password_hash(hash, password):\n",
    "        return werkzeug_check_password_hash(hash, password)\n",
    "\n",
    "def is_password_strong(password):\n",
    "        if len(password) < 8:\n",
    "            return False\n",
    "        if not re.search('[A-Z]', password):\n",
    "            return False\n",
    "        if not re.search('[a-z]', password):\n",
    "                return False\n",
    "        if not re.search('[0-9]', password):\n",
    "                return False\n",
    "        return True\n",
    "\n",
    "class PasswordHashingTest(unittest.TestCase):\n",
    "\n",
    "    def test_generate_password_hash(self):\n",
    "        password = 'StrongPassw0rd'\n",
    "        hashed_password = generate_password_hash(password)\n",
    "        self.assertTrue(hashed_password is not None)\n",
    "        self.assertTrue(hashed_password.startswith('pbkdf2:sha256'))\n",
    "\n",
    "    def test_check_password_hash(self):\n",
    "        password = 'StrongPassw0rd'\n",
    "        hashed_password = generate_password_hash(password)\n",
    "        self.assertTrue(check_password_hash(hashed_password, password))\n",
    "        self.assertFalse(check_password_hash(hashed_password, 'WrongPassword'))\n",
    "\n",
    "    def test_is_password_strong(self):\n",
    "        self.assertTrue(is_password_strong('StrongPassw0rd'))\n",
    "        self.assertFalse(is_password_strong('weak'))\n",
    "        self.assertFalse(is_password_strong('NoNumbers'))\n",
    "        self.assertFalse(is_password_strong('nouppercase1'))\n",
    "        self.assertFalse(is_password_strong('NOLOWERCASE1'))\n",
    "\n",
    "unittest.main(argv=[''], verbosity=2, exit=False)"
   ],
   "id": "14c97e320f9ff263",
   "outputs": [
    {
     "name": "stdout",
     "output_type": "stream",
     "text": [
      " * Serving Flask app 'WebAppRouting'\n",
      " * Debug mode: off\n"
     ]
    },
    {
     "name": "stderr",
     "output_type": "stream",
     "text": [
      "WARNING: This is a development server. Do not use it in a production deployment. Use a production WSGI server instead.\n",
      " * Running on https://127.0.0.1:8282\n",
      "Press CTRL+C to quit\n"
     ]
    }
   ],
   "execution_count": null
  },
  {
   "metadata": {},
   "cell_type": "code",
   "outputs": [],
   "execution_count": null,
   "source": "",
   "id": "6c8407e7da9d5f07"
  }
 ],
 "metadata": {
  "kernelspec": {
   "display_name": "Python 3",
   "language": "python",
   "name": "python3"
  },
  "language_info": {
   "codemirror_mode": {
    "name": "ipython",
    "version": 2
   },
   "file_extension": ".py",
   "mimetype": "text/x-python",
   "name": "python",
   "nbconvert_exporter": "python",
   "pygments_lexer": "ipython2",
   "version": "2.7.6"
  }
 },
 "nbformat": 4,
 "nbformat_minor": 5
}
