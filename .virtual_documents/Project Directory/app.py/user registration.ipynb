{
 "cells": [
  {
   "cell_type": "code",
   "id": "initial_id",
   "metadata": {
    "collapsed": true,
    "ExecuteTime": {
     "end_time": "2024-11-02T17:26:35.757508Z",
     "start_time": "2024-11-02T17:26:27.971950Z"
    }
   },
   "source": [
    "#Import libraries\n",
    "from flask import Flask, request, redirect, render_template\n",
    "import sqlite3\n",
    "import os\n",
    "\n",
    "app = Flask(__name__)\n",
    "\n",
    "# Function to connect to the SQLite database and initialise the table \n",
    "\n",
    "def init_db(): \n",
    "    conn = sqlite3.connect('users.db') \n",
    "    cursor = conn.cursor()\n",
    "    cursor.execute(''' \n",
    "    CREATE TABLE IF NOT EXISTS users \n",
    "    ( id INTEGER PRIMARY KEY AUTOINCREMENT, username TEXT NOT NULL, created_at TIMESTAMP DEFAULT CURRENT_TIMESTAMP\n",
    "     ) \n",
    "     ''')\n",
    "    conn.commit()\n",
    "    conn.close()\n",
    "\n",
    "#Route for the registration page\n",
    "@app.route('/')\n",
    "def register():\n",
    "    return render_template('register.html')\n",
    "\n",
    "#Route to handle user registration\n",
    "@app.route('/register', methods=['POST'])\n",
    "def do_register():\n",
    "    username = request.form['username']\n",
    "    \n",
    "    #Insert the new user into the database\n",
    "    conn = sqlite3.connect('users.db')\n",
    "    cursor = conn.cursor()\n",
    "    cursor.execute(\"INSERT INTO users (username) VALUES (?)\", (username,))\n",
    "    conn.commit()\n",
    "    conn.close()\n",
    "\n",
    "    return redirect('/users')\n",
    "\n",
    "#Route to display registered users\n",
    "@app.route('/users')\n",
    "def users():\n",
    "    conn = sqlite3.connect('users.db')\n",
    "    cursor = conn.cursor()\n",
    "    cursor.execute(\"SELECT username, created_at FROM users\")\n",
    "    users = cursor.fetchall()\n",
    "    conn.close()\n",
    "    \n",
    "    return render_template('users.html', users=users)\n",
    "\n",
    "if __name__ == '__main__':\n",
    "    init_db()\n",
    "    app.run(port=5000, debug=False) #Disable debug mode"
   ],
   "outputs": [
    {
     "name": "stdout",
     "output_type": "stream",
     "text": [
      " * Serving Flask app '__main__'\n",
      " * Debug mode: off\n"
     ]
    },
    {
     "name": "stderr",
     "output_type": "stream",
     "text": [
      "WARNING: This is a development server. Do not use it in a production deployment. Use a production WSGI server instead.\n",
      " * Running on http://127.0.0.1:5000\n",
      "Press CTRL+C to quit\n"
     ]
    }
   ],
   "execution_count": 1
  },
  {
   "metadata": {},
   "cell_type": "code",
   "outputs": [],
   "execution_count": null,
   "source": "",
   "id": "13aa8d560df6c0b6"
  }
 ],
 "metadata": {
  "kernelspec": {
   "display_name": "Python 3",
   "language": "python",
   "name": "python3"
  },
  "language_info": {
   "codemirror_mode": {
    "name": "ipython",
    "version": 2
   },
   "file_extension": ".py",
   "mimetype": "text/x-python",
   "name": "python",
   "nbconvert_exporter": "python",
   "pygments_lexer": "ipython2",
   "version": "2.7.6"
  }
 },
 "nbformat": 4,
 "nbformat_minor": 5
}
