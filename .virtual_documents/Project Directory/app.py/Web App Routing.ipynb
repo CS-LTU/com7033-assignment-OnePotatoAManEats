{
 "cells": [
  {
   "cell_type": "code",
   "id": "initial_id",
   "metadata": {
    "collapsed": true,
    "jupyter": {
     "is_executing": true
    },
    "ExecuteTime": {
     "start_time": "2024-11-02T14:40:45.813933Z"
    }
   },
   "source": [
    "#Import necessary Libraries\n",
    "from flask import Flask, render_template, request, redirect, url_for\n",
    "from threading import Thread\n",
    "from IPython.display import display, Javascript\n",
    "\n",
    "#Initialise the Flask application\n",
    "app = Flask(__name__)\n",
    "\n",
    "#Store Registered users in memory (for simplicity)\n",
    "users = []\n",
    "\n",
    "#Route for the Home Page\n",
    "@app.route('/')\n",
    "def home():\n",
    "    return render_template('home.html')\n",
    "\n",
    "#Route for the About page\n",
    "@app.route('/about')\n",
    "def about():\n",
    "    return render_template('about.html')\n",
    "\n",
    "#Route for the Contact Us Page\n",
    "@app.route('/contact')\n",
    "def contact():\n",
    "    return render_template('contact.html')\n",
    "\n",
    "#Route for the Registration Page\n",
    "@app.route('/register', methods=['GET', 'POST'])\n",
    "def register():\n",
    "    if request.method == 'POST':\n",
    "        username = request.form.get('username')\n",
    "        password = request.form.get('password')\n",
    "        users.append({'username': username, 'password': password})\n",
    "        return redirect(url_for('/'))\n",
    "    return render_template('register.html')\n",
    "\n",
    "#Route for the Login page\n",
    "@app.route('/login', methods=['GET', 'POST'])\n",
    "def login():\n",
    "    if request.method == 'POST':\n",
    "        username = request.form.get('username')\n",
    "        password = request.form.get('password')\n",
    "        users.append({'username': username, 'password': password})\n",
    "        return redirect(url_for('/'))\n",
    "    return render_template('login.html')\n",
    "        \n",
    "def run_flask():\n",
    "    #Display a link to open the Flask app in a new browser tab\n",
    "    #display(Javascript('window.open(\"/proxy/5000/\",\"_blank\")'))\n",
    "    app.run(host='0.0.0.0', port=5000)\n",
    "    \n",
    "# Start Flask app in a thread\n",
    "Thread(target=run_flask).start()\n",
    "\n",
    "#start the flask application\n",
    "run_flask()"
   ],
   "outputs": [
    {
     "name": "stdout",
     "output_type": "stream",
     "text": [
      " * Serving Flask app '__main__'\n",
      " * Serving Flask app '__main__'\n",
      " * Debug mode: off\n",
      " * Debug mode: off\n"
     ]
    },
    {
     "name": "stderr",
     "output_type": "stream",
     "text": [
      "WARNING: This is a development server. Do not use it in a production deployment. Use a production WSGI server instead.\n",
      " * Running on all addresses (0.0.0.0)\n",
      " * Running on http://127.0.0.1:5000\n",
      " * Running on http://10.0.0.105:5000\n",
      "Press CTRL+C to quit\n",
      "WARNING: This is a development server. Do not use it in a production deployment. Use a production WSGI server instead.\n",
      " * Running on all addresses (0.0.0.0)\n",
      " * Running on http://127.0.0.1:5000\n",
      " * Running on http://10.0.0.105:5000\n",
      "Press CTRL+C to quit\n",
      "127.0.0.1 - - [02/Nov/2024 14:40:55] \"GET / HTTP/1.1\" 200 -\n",
      "127.0.0.1 - - [02/Nov/2024 14:40:55] \"GET /static/images/hospital.png HTTP/1.1\" 304 -\n"
     ]
    }
   ],
   "execution_count": null
  },
  {
   "metadata": {},
   "cell_type": "code",
   "outputs": [],
   "execution_count": null,
   "source": "",
   "id": "bc71b976069910c4"
  }
 ],
 "metadata": {
  "kernelspec": {
   "display_name": "Python 3",
   "language": "python",
   "name": "python3"
  },
  "language_info": {
   "codemirror_mode": {
    "name": "ipython",
    "version": 2
   },
   "file_extension": ".py",
   "mimetype": "text/x-python",
   "name": "python",
   "nbconvert_exporter": "python",
   "pygments_lexer": "ipython2",
   "version": "2.7.6"
  }
 },
 "nbformat": 4,
 "nbformat_minor": 5
}
