{
 "cells": [
  {
   "cell_type": "code",
   "id": "initial_id",
   "metadata": {
    "collapsed": true,
    "ExecuteTime": {
     "end_time": "2024-11-01T21:21:14.157921Z",
     "start_time": "2024-11-01T21:21:14.005235Z"
    }
   },
   "source": [
    "#Import necessary Libraries\n",
    "from flask import Flask, render_template, request, redirect, url_for\n",
    "from threading import Thread\n",
    "from IPython.display import display, Javascript\n",
    "\n",
    "#Initialise the Flask application\n",
    "app = Flask(__name__)\n",
    "\n",
    "#Store Registered users in memory (for simplicity)\n",
    "users = []\n",
    "\n",
    "#Route for the Home Page\n",
    "@app.route('/')\n",
    "def home():\n",
    "    return '''\n",
    "    <h1>Welcome to The Miskatonic Teaching Hospital Stroke Prevention and Rehabilitation Centre Stroke Prediction Dataset</h1>\n",
    "    <p>This dataset is for use by Miskatonic staff to help improve patient outcomes through identifying potential factors that may lead to a stroke in the future.</p>\n",
    "    <a href=\"/about\">About This Dataset</a>\n",
    "    '''\n",
    "\n",
    "#Route for the About page\n",
    "@app.route('/about')\n",
    "def about():\n",
    "    return '''\n",
    "    <h1>About This Dataset</h1>\n",
    "    <p>According to the World Health Organization (WHO) stroke is the 2nd leading cause of death globally, responsible for approximately 11% of total deaths.</p>\n",
    "     <p>This dataset is used to predict whether a patient is likely to get stroke based on the input parameters like gender, age, various diseases, and smoking status. Each row in the data provides relevant information about the patient.</p>\n",
    "     <p>This dataset is taken from Kaggle.com</p>\n",
    "     <a href=\"/\">Main Page</a>\n",
    "    '''\n",
    "\n",
    "#Route for the Contact Us Page\n",
    "@app.route('/Contact Us')\n",
    "def contact():\n",
    "    return '''\n",
    "    <h1>Contact Us</h1>\n",
    "    <p>We hope you find this application useful.</p>\n",
    "    <p>If you have any issues or need any further support please contact us at help.strokeapp@Miskatonic.uk</p>\n",
    "    '''\n",
    "\n",
    "def run_flask():\n",
    "    #Display a link to open the Flask app in a new browser tab\n",
    "    #display(Javascript('window.open(\"/proxy/5000/\",\"_blank\")'))\n",
    "    app.run(host='0.0.0.0', port=5000)\n",
    "    \n",
    "# Start Flask app in a thread\n",
    "Thread(target=run_flask).start()\n"
   ],
   "outputs": [],
   "execution_count": 1
  }
 ],
 "metadata": {
  "kernelspec": {
   "display_name": "Python 3",
   "language": "python",
   "name": "python3"
  },
  "language_info": {
   "codemirror_mode": {
    "name": "ipython",
    "version": 2
   },
   "file_extension": ".py",
   "mimetype": "text/x-python",
   "name": "python",
   "nbconvert_exporter": "python",
   "pygments_lexer": "ipython2",
   "version": "2.7.6"
  }
 },
 "nbformat": 4,
 "nbformat_minor": 5
}
