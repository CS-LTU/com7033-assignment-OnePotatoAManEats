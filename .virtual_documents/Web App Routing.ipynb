#Import necessary Libraries
from flask import Flask
from IPython.display import display, Javascript

app = Flask(__name__)
#Route for the Home Page
@app.route('/')
def home():
    return '''
    <h1>Welcome to The Miskatonic Teaching Hospital Stroke Prevention and Rehabilitation Centre Stroke Prediction Dataset</h1>
    <p>This dataset is for use by Miskatonic staff to help improve patient outcomes through identifying potential factors that may lead to a stroke in the future.</p>
    <a href="/about">About This Dataset</a>
'''

#Route for the About page
@app.route('/about')
def about():
    return '''
    <h1>About This Dataset</h1>
    <p>According to the World Health Organization (WHO) stroke is the 2nd leading cause of death globally, responsible for approximately 11% of total deaths.
     This dataset is used to predict whether a patient is likely to get stroke based on the input parameters like gender, age, various diseases, and smoking status. Each row in the data provides relevant information about the patient.
     This data set is taken from https://www.kaggle.com/datasets/fedesoriano/stroke-prediction-dataset/data</p>
     <a href="/">Main Page</a>
    '''

def run_flask():
    #Display a link to open the Flask app in a new browser tab
    display(Javascript('window.open("/proxy/5000/","_blank")'))
    app.run(host='0.0.0.0', port=5000)







