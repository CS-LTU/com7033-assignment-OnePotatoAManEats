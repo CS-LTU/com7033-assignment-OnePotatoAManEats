{
 "cells": [
  {
   "cell_type": "code",
   "id": "initial_id",
   "metadata": {
    "collapsed": true,
    "ExecuteTime": {
     "end_time": "2024-11-01T20:57:36.385460Z",
     "start_time": "2024-11-01T20:57:36.376394Z"
    }
   },
   "source": [
    "#Import necessary Libraries\n",
    "from flask import Flask\n",
    "from IPython.display import display, Javascript\n",
    "\n",
    "app = Flask(__name__)\n",
    "#Route for the Home Page\n",
    "@app.route('/')\n",
    "def home():\n",
    "    return '''\n",
    "    <h1>Welcome to The Miskatonic Teaching Hospital Stroke Prevention and Rehabilitation Centre Stroke Prediction Dataset</h1>\n",
    "    <p>This dataset is for use by Miskatonic staff to help improve patient outcomes through identifying potential factors that may lead to a stroke in the future.</p>\n",
    "    <a href=\"/about\">About This Dataset</a>\n",
    "'''\n",
    "\n",
    "#Route for the About page\n",
    "@app.route('/about')\n",
    "def about():\n",
    "    return '''\n",
    "    <h1>About This Dataset</h1>\n",
    "    <p>According to the World Health Organization (WHO) stroke is the 2nd leading cause of death globally, responsible for approximately 11% of total deaths.\n",
    "     This dataset is used to predict whether a patient is likely to get stroke based on the input parameters like gender, age, various diseases, and smoking status. Each row in the data provides relevant information about the patient.\n",
    "     This data set is taken from https://www.kaggle.com/datasets/fedesoriano/stroke-prediction-dataset/data</p>\n",
    "     <a href=\"/\">Main Page</a>\n",
    "    '''\n",
    "\n",
    "def run_flask():\n",
    "    #Display a link to open the Flask app in a new browser tab\n",
    "    display(Javascript('window.open(\"/proxy/5000/\",\"_blank\")'))\n",
    "    app.run(host='0.0.0.0', port=5000)\n"
   ],
   "outputs": [],
   "execution_count": 4
  },
  {
   "metadata": {
    "ExecuteTime": {
     "end_time": "2024-11-01T20:57:36.399448Z",
     "start_time": "2024-11-01T20:57:36.395135Z"
    }
   },
   "cell_type": "code",
   "source": "",
   "id": "9afb8b629a188bf0",
   "outputs": [],
   "execution_count": null
  },
  {
   "metadata": {
    "ExecuteTime": {
     "end_time": "2024-11-01T20:57:36.431566Z",
     "start_time": "2024-11-01T20:57:36.426578Z"
    }
   },
   "cell_type": "code",
   "source": "",
   "id": "6a917bae897a1f79",
   "outputs": [],
   "execution_count": null
  }
 ],
 "metadata": {
  "kernelspec": {
   "display_name": "Python 3",
   "language": "python",
   "name": "python3"
  },
  "language_info": {
   "codemirror_mode": {
    "name": "ipython",
    "version": 2
   },
   "file_extension": ".py",
   "mimetype": "text/x-python",
   "name": "python",
   "nbconvert_exporter": "python",
   "pygments_lexer": "ipython2",
   "version": "2.7.6"
  }
 },
 "nbformat": 4,
 "nbformat_minor": 5
}
